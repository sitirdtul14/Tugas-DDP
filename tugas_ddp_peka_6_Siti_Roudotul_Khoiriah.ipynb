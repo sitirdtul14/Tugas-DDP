{
  "nbformat": 4,
  "nbformat_minor": 0,
  "metadata": {
    "colab": {
      "provenance": [],
      "toc_visible": true
    },
    "kernelspec": {
      "name": "python3",
      "display_name": "Python 3"
    },
    "language_info": {
      "name": "python"
    }
  },
  "cells": [
    {
      "cell_type": "code",
      "execution_count": null,
      "metadata": {
        "colab": {
          "base_uri": "https://localhost:8080/"
        },
        "id": "NSqK3fUIaQW3",
        "outputId": "6b762582-4e77-4334-c970-a2c8e9e866aa"
      },
      "outputs": [
        {
          "output_type": "stream",
          "name": "stdout",
          "text": [
            "402\n",
            "951\n",
            "651\n",
            "69\n",
            "319\n",
            "601\n",
            "485\n",
            "507\n",
            "725\n",
            "547\n",
            "615\n",
            "83\n",
            "165\n",
            "141\n",
            "501\n",
            "263\n",
            "617\n",
            "865\n",
            "575\n",
            "219\n",
            "105\n",
            "941\n",
            "47\n",
            "907\n",
            "375\n",
            "823\n",
            "597\n",
            "615\n",
            "953\n",
            "345\n",
            "399\n",
            "219\n",
            "237\n",
            "949\n",
            "687\n",
            "217\n",
            "815\n",
            "67\n",
            "767\n",
            "553\n"
          ]
        }
      ],
      "source": [
        "#soal 1\n",
        "numbers = [\n",
        "951, 402, 984, 651, 360, 69, 408, 319, 601, 485, 980, 507, 725, 547, 544,  615, 83, 165, 141, 501, 263, 617, 865, 575, 219, 390, 984, 592, 236, 105, 942, 941,  386, 462, 47, 418, 907, 344, 236, 375, 823, 566, 597, 978, 328, 615, 953, 345,  399, 162, 758, 219, 918, 237, 412, 566, 826, 248, 866, 950, 626, 949, 687, 217, 815, 67, 104, 58, 512, 24, 892, 894, 767, 553, 81, 379, 843, 831, 445, 742, 717, 958, 609, 842, 451, 688, 753, 854, 685, 93, 857, 440, 380, 126, 721, 328, 753, 470, 743, 527\n",
        "]\n",
        "\n",
        "print(numbers[1])\n",
        "i = 0\n",
        "while i < len(numbers):\n",
        "    if numbers[i] % 2 == 1:\n",
        "        print(numbers[i])\n",
        "    if numbers [i] == 553:\n",
        "        break\n",
        "    i += 1"
      ]
    },
    {
      "cell_type": "code",
      "source": [
        "#soal 2\n",
        "hasil = 0\n",
        "for i in range(1,20,2):\n",
        "  hasil += i\n",
        "print(f\"1 + 3 + 5 + 7 +9 +11 +13 + 15 +17 +19= {hasil}\")"
      ],
      "metadata": {
        "colab": {
          "base_uri": "https://localhost:8080/"
        },
        "id": "NMSHw1A6H8kI",
        "outputId": "35583191-afa5-4f94-c7a6-6d2b908f331b"
      },
      "execution_count": null,
      "outputs": [
        {
          "output_type": "stream",
          "name": "stdout",
          "text": [
            "1 + 3 + 5 + 7 +9 +11 +13 + 15 +17 +19= 100\n"
          ]
        }
      ]
    },
    {
      "cell_type": "code",
      "source": [
        "#soal 3\n",
        "b= int(input(\"Masukan jumlah baris : \"))\n",
        "for y in range(1, b+1):\n",
        "    print(\"*\" * y)"
      ],
      "metadata": {
        "id": "QMjmlPsdEijG",
        "colab": {
          "base_uri": "https://localhost:8080/"
        },
        "outputId": "33f97d56-e137-476a-d745-e850c6937057"
      },
      "execution_count": null,
      "outputs": [
        {
          "output_type": "stream",
          "name": "stdout",
          "text": [
            "Masukan jumlah baris : 5\n",
            "*\n",
            "**\n",
            "***\n",
            "****\n",
            "*****\n"
          ]
        }
      ]
    }
  ]
}